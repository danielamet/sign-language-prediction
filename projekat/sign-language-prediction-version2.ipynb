{
 "cells": [
  {
   "cell_type": "markdown",
   "metadata": {},
   "source": [
    "## Predikcija slova znakovnog jezika"
   ]
  },
  {
   "cell_type": "code",
   "execution_count": 1,
   "metadata": {},
   "outputs": [],
   "source": [
    "import numpy as np\n",
    "import pandas as pd \n",
    "import seaborn as sns\n",
    "from sklearn.preprocessing import LabelBinarizer\n",
    "from sklearn.model_selection import train_test_split"
   ]
  },
  {
   "cell_type": "markdown",
   "metadata": {},
   "source": [
    "Ucitavamo i predprocesiramo podatke:"
   ]
  },
  {
   "cell_type": "code",
   "execution_count": 2,
   "metadata": {},
   "outputs": [],
   "source": [
    "train_data = pd.read_csv(\"../projekat/data/sign_mnist_train/sign_mnist_train.csv\")\n",
    "test_data = pd.read_csv(\"../projekat/data/sign_mnist_test/sign_mnist_test.csv\")\n",
    "\n",
    "y_train = train_data['label'] #slova\n",
    "x_train = train_data.drop([\"label\"],axis=1) #slika\n",
    "\n",
    "\n",
    "y_test = test_data['label']\n",
    "x_test = test_data.drop([\"label\"],axis=1)\n",
    "\n",
    "label_binrizer = LabelBinarizer()\n",
    "y_train = label_binrizer.fit_transform(y_train)\n",
    "y_test = label_binrizer.fit_transform(y_test)\n",
    "\n",
    "# normalizacija\n",
    "x_train = x_train/255.0\n",
    "x_test = x_test/255.0\n",
    "\n",
    "# reshape\n",
    "x_train = x_train.values.reshape(-1,28,28,1)\n",
    "x_test = x_test.values.reshape(-1,28,28,1)"
   ]
  },
  {
   "cell_type": "markdown",
   "metadata": {},
   "source": [
    "Trening podaci su podeljeni na trening i validacione u odnosu 80/20 i bice korisceni za obucavanje modela. "
   ]
  },
  {
   "cell_type": "code",
   "execution_count": 3,
   "metadata": {},
   "outputs": [],
   "source": [
    "x_train, x_val, y_train, y_val = train_test_split(x_train, y_train, test_size=0.20, random_state=42)"
   ]
  },
  {
   "cell_type": "code",
   "execution_count": 4,
   "metadata": {},
   "outputs": [
    {
     "name": "stdout",
     "output_type": "stream",
     "text": [
      "x_train shape (21964, 28, 28, 1)\n",
      "x_val shape (5491, 28, 28, 1)\n",
      "y_train shape (21964, 24)\n",
      "y_val shape (5491, 24)\n"
     ]
    }
   ],
   "source": [
    "print(\"x_train shape\",x_train.shape)\n",
    "print(\"x_val shape\",x_val.shape)\n",
    "print(\"y_train shape\",y_train.shape)\n",
    "print(\"y_val shape\",y_val.shape)"
   ]
  },
  {
   "cell_type": "code",
   "execution_count": 5,
   "metadata": {},
   "outputs": [],
   "source": [
    "from keras.models import Sequential\n",
    "from keras.layers import Dense, Dropout, Activation, Flatten\n",
    "from keras.optimizers import Adam\n",
    "from keras.layers import Dense, Dropout, Flatten, Conv2D, MaxPool2D, BatchNormalization"
   ]
  },
  {
   "cell_type": "markdown",
   "metadata": {},
   "source": [
    "Za brze treniranje mreze i lakse inicijalizovanje tezina, koristi se [**BatchNormalization**](https://keras.io/api/layers/normalization_layers/batch_normalization/). \n",
    "\n"
   ]
  },
  {
   "cell_type": "code",
   "execution_count": 6,
   "metadata": {},
   "outputs": [],
   "source": [
    "# building a linear stack of layers with the sequential model\n",
    "model = Sequential()\n",
    "\n",
    "# convolutional layer\n",
    "model.add(Conv2D(32 , (3,3) , activation = 'relu' , input_shape = (28,28,1)))\n",
    "model.add(BatchNormalization())\n",
    "model.add(MaxPool2D((2,2)))\n",
    "# convolutional layer\n",
    "model.add(Conv2D(64 , (3,3) , activation = 'relu'))\n",
    "model.add(BatchNormalization())\n",
    "model.add(MaxPool2D((2,2)))\n",
    "# convolutional layer\n",
    "model.add(Conv2D(128, (3,3) , activation = 'relu'))\n",
    "model.add(BatchNormalization())\n",
    "model.add(MaxPool2D((2,2)))\n",
    "\n",
    "# flatten output of conv\n",
    "model.add(BatchNormalization())\n",
    "model.add(Flatten())\n",
    "\n",
    "# hidden layer\n",
    "model.add(Dense(units = 128 , activation = 'relu'))\n",
    "model.add(Dropout(0.3))\n",
    "\n",
    "# output layer\n",
    "model.add(Dense(units = 24 , activation = 'softmax'))\n",
    "\n",
    "# compiling the sequential model\n",
    "model.compile(optimizer = Adam(lr=0.003) , loss = 'categorical_crossentropy' , metrics = ['accuracy'])"
   ]
  },
  {
   "cell_type": "code",
   "execution_count": 7,
   "metadata": {},
   "outputs": [
    {
     "name": "stdout",
     "output_type": "stream",
     "text": [
      "Model: \"sequential\"\n",
      "_________________________________________________________________\n",
      "Layer (type)                 Output Shape              Param #   \n",
      "=================================================================\n",
      "conv2d (Conv2D)              (None, 26, 26, 32)        320       \n",
      "_________________________________________________________________\n",
      "batch_normalization (BatchNo (None, 26, 26, 32)        128       \n",
      "_________________________________________________________________\n",
      "max_pooling2d (MaxPooling2D) (None, 13, 13, 32)        0         \n",
      "_________________________________________________________________\n",
      "conv2d_1 (Conv2D)            (None, 11, 11, 64)        18496     \n",
      "_________________________________________________________________\n",
      "batch_normalization_1 (Batch (None, 11, 11, 64)        256       \n",
      "_________________________________________________________________\n",
      "max_pooling2d_1 (MaxPooling2 (None, 5, 5, 64)          0         \n",
      "_________________________________________________________________\n",
      "conv2d_2 (Conv2D)            (None, 3, 3, 128)         73856     \n",
      "_________________________________________________________________\n",
      "batch_normalization_2 (Batch (None, 3, 3, 128)         512       \n",
      "_________________________________________________________________\n",
      "max_pooling2d_2 (MaxPooling2 (None, 1, 1, 128)         0         \n",
      "_________________________________________________________________\n",
      "batch_normalization_3 (Batch (None, 1, 1, 128)         512       \n",
      "_________________________________________________________________\n",
      "flatten (Flatten)            (None, 128)               0         \n",
      "_________________________________________________________________\n",
      "dense (Dense)                (None, 128)               16512     \n",
      "_________________________________________________________________\n",
      "dropout (Dropout)            (None, 128)               0         \n",
      "_________________________________________________________________\n",
      "dense_1 (Dense)              (None, 24)                3096      \n",
      "=================================================================\n",
      "Total params: 113,688\n",
      "Trainable params: 112,984\n",
      "Non-trainable params: 704\n",
      "_________________________________________________________________\n"
     ]
    }
   ],
   "source": [
    "model.summary()"
   ]
  },
  {
   "cell_type": "code",
   "execution_count": 8,
   "metadata": {},
   "outputs": [
    {
     "name": "stdout",
     "output_type": "stream",
     "text": [
      "Epoch 1/15\n",
      "172/172 [==============================] - 100s 560ms/step - loss: 1.0595 - accuracy: 0.6969 - val_loss: 4.7236 - val_accuracy: 0.0692\n",
      "\n",
      "Epoch 00001: val_loss improved from inf to 4.72364, saving model to models\\best_weights.hdf5\n",
      "Epoch 2/15\n",
      "172/172 [==============================] - 95s 554ms/step - loss: 0.0099 - accuracy: 0.9992 - val_loss: 4.3926 - val_accuracy: 0.0936\n",
      "\n",
      "Epoch 00002: val_loss improved from 4.72364 to 4.39258, saving model to models\\best_weights.hdf5\n",
      "Epoch 3/15\n",
      "172/172 [==============================] - 83s 486ms/step - loss: 0.0148 - accuracy: 0.9965 - val_loss: 0.9743 - val_accuracy: 0.7159\n",
      "\n",
      "Epoch 00003: val_loss improved from 4.39258 to 0.97433, saving model to models\\best_weights.hdf5\n",
      "Epoch 4/15\n",
      "172/172 [==============================] - 84s 492ms/step - loss: 0.0170 - accuracy: 0.9949 - val_loss: 0.0977 - val_accuracy: 0.9670\n",
      "\n",
      "Epoch 00004: val_loss improved from 0.97433 to 0.09773, saving model to models\\best_weights.hdf5\n",
      "Epoch 5/15\n",
      "172/172 [==============================] - 87s 503ms/step - loss: 0.0043 - accuracy: 0.9991 - val_loss: 0.0527 - val_accuracy: 0.9838\n",
      "\n",
      "Epoch 00005: val_loss improved from 0.09773 to 0.05267, saving model to models\\best_weights.hdf5\n",
      "Epoch 6/15\n",
      "172/172 [==============================] - 143s 833ms/step - loss: 9.0365e-04 - accuracy: 0.9999 - val_loss: 1.2188e-04 - val_accuracy: 1.0000\n",
      "\n",
      "Epoch 00006: val_loss improved from 0.05267 to 0.00012, saving model to models\\best_weights.hdf5\n",
      "Epoch 7/15\n",
      "172/172 [==============================] - 200s 1s/step - loss: 5.9887e-04 - accuracy: 1.0000 - val_loss: 8.6145e-04 - val_accuracy: 0.9998\n",
      "\n",
      "Epoch 00007: val_loss did not improve from 0.00012\n",
      "Epoch 8/15\n",
      "172/172 [==============================] - 144s 839ms/step - loss: 3.0746e-04 - accuracy: 1.0000 - val_loss: 0.0035 - val_accuracy: 0.9984\n",
      "\n",
      "Epoch 00008: val_loss did not improve from 0.00012\n",
      "Epoch 9/15\n",
      "172/172 [==============================] - 138s 803ms/step - loss: 5.6313e-04 - accuracy: 0.9999 - val_loss: 8.3460e-04 - val_accuracy: 0.9998\n",
      "\n",
      "Epoch 00009: val_loss did not improve from 0.00012\n",
      "Epoch 10/15\n",
      "172/172 [==============================] - 150s 868ms/step - loss: 2.2632e-04 - accuracy: 1.0000 - val_loss: 4.2134e-05 - val_accuracy: 1.0000\n",
      "\n",
      "Epoch 00010: val_loss improved from 0.00012 to 0.00004, saving model to models\\best_weights.hdf5\n",
      "Epoch 11/15\n",
      "172/172 [==============================] - 133s 774ms/step - loss: 1.7546e-04 - accuracy: 1.0000 - val_loss: 2.3130e-05 - val_accuracy: 1.0000\n",
      "\n",
      "Epoch 00011: val_loss improved from 0.00004 to 0.00002, saving model to models\\best_weights.hdf5\n",
      "Epoch 12/15\n",
      "172/172 [==============================] - 146s 846ms/step - loss: 1.3833e-04 - accuracy: 1.0000 - val_loss: 0.0024 - val_accuracy: 0.9993\n",
      "\n",
      "Epoch 00012: val_loss did not improve from 0.00002\n",
      "Epoch 13/15\n",
      "172/172 [==============================] - 134s 781ms/step - loss: 0.0701 - accuracy: 0.9799 - val_loss: 1.4045 - val_accuracy: 0.7474\n",
      "\n",
      "Epoch 00013: val_loss did not improve from 0.00002\n",
      "Epoch 14/15\n",
      "172/172 [==============================] - 108s 624ms/step - loss: 0.0122 - accuracy: 0.9961 - val_loss: 0.0015 - val_accuracy: 0.9998\n",
      "\n",
      "Epoch 00014: val_loss did not improve from 0.00002\n",
      "Epoch 15/15\n",
      "172/172 [==============================] - 107s 624ms/step - loss: 0.0015 - accuracy: 0.9997 - val_loss: 1.6907 - val_accuracy: 0.6864\n",
      "\n",
      "Epoch 00015: val_loss did not improve from 0.00002\n",
      "Training completed in:  0:30:54.575204\n"
     ]
    }
   ],
   "source": [
    "from keras.callbacks import ModelCheckpoint\n",
    "from datetime import datetime\n",
    "\n",
    "checkpointer = ModelCheckpoint(filepath=\"models/best_weights.hdf5\", verbose=1, save_best_only=True) \n",
    "\n",
    "start = datetime.now()\n",
    "history = model.fit(x_train, y_train, batch_size=128, epochs=15, validation_data=(x_val, y_val), \n",
    "          callbacks=[checkpointer], verbose=1)\n",
    "\n",
    "duration = datetime.now() - start\n",
    "print(\"Training completed in: \", duration)"
   ]
  },
  {
   "cell_type": "markdown",
   "metadata": {},
   "source": [
    "Kako loss opada iz epohe u epohu, **learning rate** koji je postavljen na 0.03 cini se zadovoljavajucim."
   ]
  },
  {
   "cell_type": "code",
   "execution_count": 9,
   "metadata": {},
   "outputs": [
    {
     "name": "stdout",
     "output_type": "stream",
     "text": [
      "687/687 [==============================] - 34s 50ms/step - loss: 1.7224 - accuracy: 0.6814\n",
      "Training Accuracy:  0.6814332604408264\n",
      "172/172 [==============================] - 8s 49ms/step - loss: 1.6907 - accuracy: 0.6864\n",
      "Validation Accuracy:  0.6863959431648254\n",
      "225/225 [==============================] - 12s 55ms/step - loss: 3.1326 - accuracy: 0.5495\n",
      "Test Accuracy:  0.5494980216026306\n"
     ]
    }
   ],
   "source": [
    "train_score = model.evaluate(x_train, y_train, verbose=1)\n",
    "print(\"Training Accuracy: \", train_score[1])\n",
    "\n",
    "test_score = model.evaluate(x_val, y_val, verbose=1)\n",
    "print(\"Validation Accuracy: \", test_score[1])\n",
    "\n",
    "test_score = model.evaluate(x_test, y_test, verbose=1)\n",
    "print(\"Test Accuracy: \", test_score[1])"
   ]
  },
  {
   "cell_type": "code",
   "execution_count": 11,
   "metadata": {},
   "outputs": [
    {
     "data": {
      "image/png": "[encoded data removed]",
      "text/plain": [
       "<Figure size 864x288 with 2 Axes>"
      ]
     },
     "metadata": {
      "needs_background": "light"
     },
     "output_type": "display_data"
    }
   ],
   "source": [
    "import matplotlib.pyplot as plt\n",
    "\n",
    "fig , ax = plt.subplots(1,2)\n",
    "train_acc = history.history['accuracy']\n",
    "train_loss = history.history['loss']\n",
    "fig.set_size_inches(12,4)\n",
    "\n",
    "ax[0].plot(history.history['accuracy'])\n",
    "ax[0].plot(history.history['val_accuracy'])\n",
    "ax[0].set_title('Trening Accuracy i Validaciona Accuracy')\n",
    "ax[0].set_ylabel('Accuracy')\n",
    "ax[0].set_xlabel('Epoch')\n",
    "ax[0].legend(['Train', 'Validation'], loc='upper left')\n",
    "\n",
    "ax[1].plot(history.history['loss'])\n",
    "ax[1].plot(history.history['val_loss'])\n",
    "ax[1].set_title('Trening Loss i Validacioni Loss')\n",
    "ax[1].set_ylabel('Loss')\n",
    "ax[1].set_xlabel('Epoch')\n",
    "ax[1].legend(['Train', 'Validation'], loc='upper left')\n",
    "\n",
    "plt.show()"
   ]
  },
  {
   "cell_type": "markdown",
   "metadata": {},
   "source": [
    "High Validation Accuracy + High Loss Score vs High Training Accuracy + Low Loss Score suggest that the model may be over-fitting on the training data."
   ]
  },
  {
   "cell_type": "code",
   "execution_count": 13,
   "metadata": {},
   "outputs": [],
   "source": [
    "# building a linear stack of layers with the sequential model\n",
    "model = Sequential()\n",
    "\n",
    "# convolutional layer\n",
    "model.add(Conv2D(75 , (3,3) , activation = 'relu' , input_shape = (28,28,1)))\n",
    "model.add(BatchNormalization())\n",
    "model.add(MaxPool2D((2,2)))\n",
    "# convolutional layer\n",
    "model.add(Conv2D(50 , (3,3) , activation = 'relu'))\n",
    "model.add(BatchNormalization())\n",
    "model.add(MaxPool2D((2,2)))\n",
    "# convolutional layer\n",
    "model.add(Conv2D(25, (3,3) , activation = 'relu'))\n",
    "model.add(BatchNormalization())\n",
    "model.add(MaxPool2D((2,2)))\n",
    "\n",
    "# flatten output of conv\n",
    "model.add(BatchNormalization())\n",
    "model.add(Flatten())\n",
    "\n",
    "# hidden layer\n",
    "model.add(Dense(units = 128 , activation = 'relu'))\n",
    "model.add(Dropout(0.3))\n",
    "\n",
    "# output layer\n",
    "model.add(Dense(units = 24 , activation = 'softmax'))\n",
    "\n",
    "# compiling the sequential model\n",
    "model.compile(optimizer = Adam(lr=0.001) , loss = 'categorical_crossentropy' , metrics = ['accuracy'])"
   ]
  },
  {
   "cell_type": "code",
   "execution_count": 14,
   "metadata": {},
   "outputs": [
    {
     "name": "stdout",
     "output_type": "stream",
     "text": [
      "Model: \"sequential_2\"\n",
      "_________________________________________________________________\n",
      "Layer (type)                 Output Shape              Param #   \n",
      "=================================================================\n",
      "conv2d_6 (Conv2D)            (None, 26, 26, 75)        750       \n",
      "_________________________________________________________________\n",
      "batch_normalization_8 (Batch (None, 26, 26, 75)        300       \n",
      "_________________________________________________________________\n",
      "max_pooling2d_6 (MaxPooling2 (None, 13, 13, 75)        0         \n",
      "_________________________________________________________________\n",
      "conv2d_7 (Conv2D)            (None, 11, 11, 50)        33800     \n",
      "_________________________________________________________________\n",
      "batch_normalization_9 (Batch (None, 11, 11, 50)        200       \n",
      "_________________________________________________________________\n",
      "max_pooling2d_7 (MaxPooling2 (None, 5, 5, 50)          0         \n",
      "_________________________________________________________________\n",
      "conv2d_8 (Conv2D)            (None, 3, 3, 25)          11275     \n",
      "_________________________________________________________________\n",
      "batch_normalization_10 (Batc (None, 3, 3, 25)          100       \n",
      "_________________________________________________________________\n",
      "max_pooling2d_8 (MaxPooling2 (None, 1, 1, 25)          0         \n",
      "_________________________________________________________________\n",
      "batch_normalization_11 (Batc (None, 1, 1, 25)          100       \n",
      "_________________________________________________________________\n",
      "flatten_2 (Flatten)          (None, 25)                0         \n",
      "_________________________________________________________________\n",
      "dense_4 (Dense)              (None, 128)               3328      \n",
      "_________________________________________________________________\n",
      "dropout_2 (Dropout)          (None, 128)               0         \n",
      "_________________________________________________________________\n",
      "dense_5 (Dense)              (None, 24)                3096      \n",
      "=================================================================\n",
      "Total params: 52,949\n",
      "Trainable params: 52,599\n",
      "Non-trainable params: 350\n",
      "_________________________________________________________________\n"
     ]
    }
   ],
   "source": [
    "model.summary()"
   ]
  },
  {
   "cell_type": "code",
   "execution_count": 16,
   "metadata": {},
   "outputs": [
    {
     "name": "stdout",
     "output_type": "stream",
     "text": [
      "Epoch 1/15\n",
      "172/172 [==============================] - 227s 1s/step - loss: 1.2885 - accuracy: 0.6840 - val_loss: 3.9139 - val_accuracy: 0.0920\n",
      "\n",
      "Epoch 00001: val_loss improved from inf to 3.91390, saving model to models\\best_weights.hdf5\n",
      "Epoch 2/15\n",
      "172/172 [==============================] - 255s 1s/step - loss: 0.1143 - accuracy: 0.9873 - val_loss: 3.4908 - val_accuracy: 0.1639\n",
      "\n",
      "Epoch 00002: val_loss improved from 3.91390 to 3.49083, saving model to models\\best_weights.hdf5\n",
      "Epoch 3/15\n",
      "172/172 [==============================] - 225s 1s/step - loss: 0.0265 - accuracy: 0.9990 - val_loss: 0.7739 - val_accuracy: 0.7308\n",
      "\n",
      "Epoch 00003: val_loss improved from 3.49083 to 0.77392, saving model to models\\best_weights.hdf5\n",
      "Epoch 4/15\n",
      "172/172 [==============================] - 235s 1s/step - loss: 0.0165 - accuracy: 0.9990 - val_loss: 0.0671 - val_accuracy: 0.9891\n",
      "\n",
      "Epoch 00004: val_loss improved from 0.77392 to 0.06710, saving model to models\\best_weights.hdf5\n",
      "Epoch 5/15\n",
      "172/172 [==============================] - 185s 1s/step - loss: 0.0106 - accuracy: 0.9993 - val_loss: 0.1391 - val_accuracy: 0.9557\n",
      "\n",
      "Epoch 00005: val_loss did not improve from 0.06710\n",
      "Epoch 6/15\n",
      "172/172 [==============================] - 193s 1s/step - loss: 0.0078 - accuracy: 0.9995 - val_loss: 0.0111 - val_accuracy: 0.9976\n",
      "\n",
      "Epoch 00006: val_loss improved from 0.06710 to 0.01115, saving model to models\\best_weights.hdf5\n",
      "Epoch 7/15\n",
      "172/172 [==============================] - 192s 1s/step - loss: 0.0038 - accuracy: 0.9998 - val_loss: 0.1045 - val_accuracy: 0.9659\n",
      "\n",
      "Epoch 00007: val_loss did not improve from 0.01115\n",
      "Epoch 8/15\n",
      "172/172 [==============================] - 191s 1s/step - loss: 0.0206 - accuracy: 0.9954 - val_loss: 0.4559 - val_accuracy: 0.8414\n",
      "\n",
      "Epoch 00008: val_loss did not improve from 0.01115\n",
      "Epoch 9/15\n",
      "172/172 [==============================] - 191s 1s/step - loss: 0.0105 - accuracy: 0.9981 - val_loss: 0.0090 - val_accuracy: 0.9973\n",
      "\n",
      "Epoch 00009: val_loss improved from 0.01115 to 0.00899, saving model to models\\best_weights.hdf5\n",
      "Epoch 10/15\n",
      "172/172 [==============================] - 186s 1s/step - loss: 0.0031 - accuracy: 0.9996 - val_loss: 0.0036 - val_accuracy: 0.9993\n",
      "\n",
      "Epoch 00010: val_loss improved from 0.00899 to 0.00357, saving model to models\\best_weights.hdf5\n",
      "Epoch 11/15\n",
      "172/172 [==============================] - 186s 1s/step - loss: 0.0018 - accuracy: 0.9999 - val_loss: 0.0173 - val_accuracy: 0.9954\n",
      "\n",
      "Epoch 00011: val_loss did not improve from 0.00357\n",
      "Epoch 12/15\n",
      "172/172 [==============================] - 187s 1s/step - loss: 0.0013 - accuracy: 0.9999 - val_loss: 5.5331e-04 - val_accuracy: 1.0000\n",
      "\n",
      "Epoch 00012: val_loss improved from 0.00357 to 0.00055, saving model to models\\best_weights.hdf5\n",
      "Epoch 13/15\n",
      "172/172 [==============================] - 188s 1s/step - loss: 0.0040 - accuracy: 0.9991 - val_loss: 0.0318 - val_accuracy: 0.9907\n",
      "\n",
      "Epoch 00013: val_loss did not improve from 0.00055\n",
      "Epoch 14/15\n",
      "172/172 [==============================] - 281s 2s/step - loss: 0.0313 - accuracy: 0.9904 - val_loss: 1.7195 - val_accuracy: 0.7002\n",
      "\n",
      "Epoch 00014: val_loss did not improve from 0.00055\n",
      "Epoch 15/15\n",
      "172/172 [==============================] - 399s 2s/step - loss: 0.0087 - accuracy: 0.9979 - val_loss: 0.0266 - val_accuracy: 0.9905\n",
      "\n",
      "Epoch 00015: val_loss did not improve from 0.00055\n",
      "Training completed in:  0:55:24.528401\n"
     ]
    }
   ],
   "source": [
    "checkpointer = ModelCheckpoint(filepath=\"models/best_weights.hdf5\", verbose=1, save_best_only=True) \n",
    "\n",
    "start = datetime.now()\n",
    "# training the model for 15 epochs\n",
    "model.fit(x_train, y_train, batch_size=128, epochs=15, validation_data=(x_val, y_val), \n",
    "          callbacks=[checkpointer], verbose=1)\n",
    "\n",
    "duration = datetime.now() - start\n",
    "print(\"Training completed in: \", duration)"
   ]
  },
  {
   "cell_type": "code",
   "execution_count": 17,
   "metadata": {},
   "outputs": [
    {
     "name": "stdout",
     "output_type": "stream",
     "text": [
      "687/687 [==============================] - 119s 173ms/step - loss: 0.0206 - accuracy: 0.9933\n",
      "Training Accuracy:  0.9933072328567505\n",
      "172/172 [==============================] - 30s 167ms/step - loss: 0.0266 - accuracy: 0.9905\n",
      "Validation Accuracy:  0.9905299544334412\n",
      "225/225 [==============================] - 29s 127ms/step - loss: 0.6019 - accuracy: 0.8511\n",
      "Test Accuracy:  0.8510875701904297\n"
     ]
    }
   ],
   "source": [
    "train_score = model.evaluate(x_train, y_train, verbose=1)\n",
    "print(\"Training Accuracy: \", train_score[1])\n",
    "\n",
    "test_score = model.evaluate(x_val, y_val, verbose=1)\n",
    "print(\"Validation Accuracy: \", test_score[1])\n",
    "\n",
    "test_score = model.evaluate(x_test, y_test, verbose=1)\n",
    "print(\"Test Accuracy: \", test_score[1])"
   ]
  },
  {
   "cell_type": "code",
   "execution_count": 18,
   "metadata": {},
   "outputs": [
    {
     "data": {
      "image/png": "[encoded data removed]",
      "text/plain": [
       "<Figure size 864x288 with 2 Axes>"
      ]
     },
     "metadata": {
      "needs_background": "light"
     },
     "output_type": "display_data"
    }
   ],
   "source": [
    "fig , ax = plt.subplots(1,2)\n",
    "train_acc = history.history['accuracy']\n",
    "train_loss = history.history['loss']\n",
    "fig.set_size_inches(12,4)\n",
    "\n",
    "ax[0].plot(history.history['accuracy'])\n",
    "ax[0].plot(history.history['val_accuracy'])\n",
    "ax[0].set_title('Trening Accuracy i Validaciona Accuracy')\n",
    "ax[0].set_ylabel('Accuracy')\n",
    "ax[0].set_xlabel('Epoch')\n",
    "ax[0].legend(['Train', 'Validation'], loc='upper left')\n",
    "\n",
    "ax[1].plot(history.history['loss'])\n",
    "ax[1].plot(history.history['val_loss'])\n",
    "ax[1].set_title('Trening Loss i Validacioni Loss')\n",
    "ax[1].set_ylabel('Loss')\n",
    "ax[1].set_xlabel('Epoch')\n",
    "ax[1].legend(['Train', 'Validation'], loc='upper left')\n",
    "\n",
    "plt.show()"
   ]
  },
  {
   "cell_type": "code",
   "execution_count": null,
   "metadata": {},
   "outputs": [],
   "source": []
  }
 ],
 "metadata": {
  "kernelspec": {
   "display_name": "Python 3",
   "language": "python",
   "name": "python3"
  },
  "language_info": {
   "codemirror_mode": {
    "name": "ipython",
    "version": 3
   },
   "file_extension": ".py",
   "mimetype": "text/x-python",
   "name": "python",
   "nbconvert_exporter": "python",
   "pygments_lexer": "ipython3",
   "version": "3.8.5"
  }
 },
 "nbformat": 4,
 "nbformat_minor": 4
}
