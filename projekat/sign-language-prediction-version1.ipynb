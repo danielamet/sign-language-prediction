{
 "cells": [
  {
   "cell_type": "markdown",
   "metadata": {},
   "source": [
    "## Predikcija slova znakovnog jezika"
   ]
  },
  {
   "cell_type": "code",
   "execution_count": 1,
   "metadata": {},
   "outputs": [],
   "source": [
    "import numpy as np\n",
    "import pandas as pd \n",
    "import seaborn as sns\n",
    "import matplotlib.pyplot as plt"
   ]
  },
  {
   "cell_type": "markdown",
   "metadata": {},
   "source": [
    "Prikaz prikaz prvih **5** redova **trening** skupa:"
   ]
  },
  {
   "cell_type": "code",
   "execution_count": 2,
   "metadata": {},
   "outputs": [
    {
     "data": {
      "text/html": [
       "<div>\n",
       "<style scoped>\n",
       "    .dataframe tbody tr th:only-of-type {\n",
       "        vertical-align: middle;\n",
       "    }\n",
       "\n",
       "    .dataframe tbody tr th {\n",
       "        vertical-align: top;\n",
       "    }\n",
       "\n",
       "    .dataframe thead th {\n",
       "        text-align: right;\n",
       "    }\n",
       "</style>\n",
       "<table border=\"1\" class=\"dataframe\">\n",
       "  <thead>\n",
       "    <tr style=\"text-align: right;\">\n",
       "      <th></th>\n",
       "      <th>label</th>\n",
       "      <th>pixel1</th>\n",
       "      <th>pixel2</th>\n",
       "      <th>pixel3</th>\n",
       "      <th>pixel4</th>\n",
       "      <th>pixel5</th>\n",
       "      <th>pixel6</th>\n",
       "      <th>pixel7</th>\n",
       "      <th>pixel8</th>\n",
       "      <th>pixel9</th>\n",
       "      <th>...</th>\n",
       "      <th>pixel775</th>\n",
       "      <th>pixel776</th>\n",
       "      <th>pixel777</th>\n",
       "      <th>pixel778</th>\n",
       "      <th>pixel779</th>\n",
       "      <th>pixel780</th>\n",
       "      <th>pixel781</th>\n",
       "      <th>pixel782</th>\n",
       "      <th>pixel783</th>\n",
       "      <th>pixel784</th>\n",
       "    </tr>\n",
       "  </thead>\n",
       "  <tbody>\n",
       "    <tr>\n",
       "      <th>0</th>\n",
       "      <td>3</td>\n",
       "      <td>107</td>\n",
       "      <td>118</td>\n",
       "      <td>127</td>\n",
       "      <td>134</td>\n",
       "      <td>139</td>\n",
       "      <td>143</td>\n",
       "      <td>146</td>\n",
       "      <td>150</td>\n",
       "      <td>153</td>\n",
       "      <td>...</td>\n",
       "      <td>207</td>\n",
       "      <td>207</td>\n",
       "      <td>207</td>\n",
       "      <td>207</td>\n",
       "      <td>206</td>\n",
       "      <td>206</td>\n",
       "      <td>206</td>\n",
       "      <td>204</td>\n",
       "      <td>203</td>\n",
       "      <td>202</td>\n",
       "    </tr>\n",
       "    <tr>\n",
       "      <th>1</th>\n",
       "      <td>6</td>\n",
       "      <td>155</td>\n",
       "      <td>157</td>\n",
       "      <td>156</td>\n",
       "      <td>156</td>\n",
       "      <td>156</td>\n",
       "      <td>157</td>\n",
       "      <td>156</td>\n",
       "      <td>158</td>\n",
       "      <td>158</td>\n",
       "      <td>...</td>\n",
       "      <td>69</td>\n",
       "      <td>149</td>\n",
       "      <td>128</td>\n",
       "      <td>87</td>\n",
       "      <td>94</td>\n",
       "      <td>163</td>\n",
       "      <td>175</td>\n",
       "      <td>103</td>\n",
       "      <td>135</td>\n",
       "      <td>149</td>\n",
       "    </tr>\n",
       "    <tr>\n",
       "      <th>2</th>\n",
       "      <td>2</td>\n",
       "      <td>187</td>\n",
       "      <td>188</td>\n",
       "      <td>188</td>\n",
       "      <td>187</td>\n",
       "      <td>187</td>\n",
       "      <td>186</td>\n",
       "      <td>187</td>\n",
       "      <td>188</td>\n",
       "      <td>187</td>\n",
       "      <td>...</td>\n",
       "      <td>202</td>\n",
       "      <td>201</td>\n",
       "      <td>200</td>\n",
       "      <td>199</td>\n",
       "      <td>198</td>\n",
       "      <td>199</td>\n",
       "      <td>198</td>\n",
       "      <td>195</td>\n",
       "      <td>194</td>\n",
       "      <td>195</td>\n",
       "    </tr>\n",
       "    <tr>\n",
       "      <th>3</th>\n",
       "      <td>2</td>\n",
       "      <td>211</td>\n",
       "      <td>211</td>\n",
       "      <td>212</td>\n",
       "      <td>212</td>\n",
       "      <td>211</td>\n",
       "      <td>210</td>\n",
       "      <td>211</td>\n",
       "      <td>210</td>\n",
       "      <td>210</td>\n",
       "      <td>...</td>\n",
       "      <td>235</td>\n",
       "      <td>234</td>\n",
       "      <td>233</td>\n",
       "      <td>231</td>\n",
       "      <td>230</td>\n",
       "      <td>226</td>\n",
       "      <td>225</td>\n",
       "      <td>222</td>\n",
       "      <td>229</td>\n",
       "      <td>163</td>\n",
       "    </tr>\n",
       "    <tr>\n",
       "      <th>4</th>\n",
       "      <td>13</td>\n",
       "      <td>164</td>\n",
       "      <td>167</td>\n",
       "      <td>170</td>\n",
       "      <td>172</td>\n",
       "      <td>176</td>\n",
       "      <td>179</td>\n",
       "      <td>180</td>\n",
       "      <td>184</td>\n",
       "      <td>185</td>\n",
       "      <td>...</td>\n",
       "      <td>92</td>\n",
       "      <td>105</td>\n",
       "      <td>105</td>\n",
       "      <td>108</td>\n",
       "      <td>133</td>\n",
       "      <td>163</td>\n",
       "      <td>157</td>\n",
       "      <td>163</td>\n",
       "      <td>164</td>\n",
       "      <td>179</td>\n",
       "    </tr>\n",
       "  </tbody>\n",
       "</table>\n",
       "<p>5 rows × 785 columns</p>\n",
       "</div>"
      ],
      "text/plain": [
       "   label  pixel1  pixel2  pixel3  pixel4  pixel5  pixel6  pixel7  pixel8  \\\n",
       "0      3     107     118     127     134     139     143     146     150   \n",
       "1      6     155     157     156     156     156     157     156     158   \n",
       "2      2     187     188     188     187     187     186     187     188   \n",
       "3      2     211     211     212     212     211     210     211     210   \n",
       "4     13     164     167     170     172     176     179     180     184   \n",
       "\n",
       "   pixel9  ...  pixel775  pixel776  pixel777  pixel778  pixel779  pixel780  \\\n",
       "0     153  ...       207       207       207       207       206       206   \n",
       "1     158  ...        69       149       128        87        94       163   \n",
       "2     187  ...       202       201       200       199       198       199   \n",
       "3     210  ...       235       234       233       231       230       226   \n",
       "4     185  ...        92       105       105       108       133       163   \n",
       "\n",
       "   pixel781  pixel782  pixel783  pixel784  \n",
       "0       206       204       203       202  \n",
       "1       175       103       135       149  \n",
       "2       198       195       194       195  \n",
       "3       225       222       229       163  \n",
       "4       157       163       164       179  \n",
       "\n",
       "[5 rows x 785 columns]"
      ]
     },
     "execution_count": 2,
     "metadata": {},
     "output_type": "execute_result"
    }
   ],
   "source": [
    "train_data = pd.read_csv(\"../projekat/data/sign_mnist_train/sign_mnist_train.csv\")\n",
    "train_data.head()"
   ]
  },
  {
   "cell_type": "markdown",
   "metadata": {},
   "source": [
    "Kolona **label** oznacava slovo koje je opisano cifrom od **0** do **24**, dok se slika sastoji od **784 px**.\n",
    "\n"
   ]
  },
  {
   "cell_type": "code",
   "execution_count": 3,
   "metadata": {},
   "outputs": [],
   "source": [
    "y_train = train_data['label'] #slova\n",
    "x_train = train_data.drop([\"label\"],axis=1) #slika"
   ]
  },
  {
   "cell_type": "markdown",
   "metadata": {},
   "source": [
    "Distribucija klasa (slova) u koloni label:"
   ]
  },
  {
   "cell_type": "code",
   "execution_count": 4,
   "metadata": {},
   "outputs": [
    {
     "data": {
      "text/plain": [
       "Text(0.5, 1.0, 'Ukupan broj svakog slova u trening skupu')"
      ]
     },
     "execution_count": 4,
     "metadata": {},
     "output_type": "execute_result"
    },
    {
     "data": {
      "image/png": "[encoded data removed]",
      "text/plain": [
       "<Figure size 1440x720 with 1 Axes>"
      ]
     },
     "metadata": {
      "needs_background": "light"
     },
     "output_type": "display_data"
    }
   ],
   "source": [
    "import warnings\n",
    "warnings.filterwarnings('ignore')\n",
    "\n",
    "plt.figure(figsize=(20,10))\n",
    "g = sns.countplot(y_train, palette=\"rainbow\")\n",
    "plt.title(\"Ukupan broj svakog slova u trening skupu\")"
   ]
  },
  {
   "cell_type": "markdown",
   "metadata": {},
   "source": [
    "Ucitavanje prve cetiri slike:"
   ]
  },
  {
   "cell_type": "code",
   "execution_count": 5,
   "metadata": {},
   "outputs": [
    {
     "data": {
      "image/png": "[encoded data removed]",
      "text/plain": [
       "<Figure size 720x720 with 4 Axes>"
      ]
     },
     "metadata": {
      "needs_background": "light"
     },
     "output_type": "display_data"
    }
   ],
   "source": [
    "f, ax = plt.subplots(1,4)\n",
    "f.set_size_inches(10,10)\n",
    "\n",
    "k = 0\n",
    "for i in range(1):\n",
    "    for j in range(4):\n",
    "        img = x_train.iloc[k].to_numpy()\n",
    "        img = img.reshape((28,28))\n",
    "        ax[j].imshow(img)\n",
    "        k += 1"
   ]
  },
  {
   "cell_type": "markdown",
   "metadata": {},
   "source": [
    "#### Klasifikacija\n",
    "\n",
    "* oznake klasa cemo enkodirati pomocu [**Label Binazier-a**](https://scikit-learn.org/stable/modules/generated/sklearn.preprocessing.LabelBinarizer.html)\n",
    "\n",
    "\n",
    "\n",
    "* potom se vrsi grayscale normalizacija \n",
    "\n",
    "\n",
    "\n",
    "* zatim pretvaranje u 3D matricu (1 zasto sto je grayscale pa korsiti samo jedan kanal)."
   ]
  },
  {
   "cell_type": "code",
   "execution_count": 6,
   "metadata": {},
   "outputs": [],
   "source": [
    "from sklearn.preprocessing import LabelBinarizer"
   ]
  },
  {
   "cell_type": "code",
   "execution_count": 7,
   "metadata": {},
   "outputs": [],
   "source": [
    "label_binrizer = LabelBinarizer()\n",
    "y_train = label_binrizer.fit_transform(y_train)\n",
    "\n",
    "# normalization\n",
    "x_train = x_train/255.0\n",
    "\n",
    "# reshape\n",
    "x_train = x_train.values.reshape(-1,28,28,1)"
   ]
  },
  {
   "cell_type": "markdown",
   "metadata": {},
   "source": [
    "Ucitavamo testne podatke i preprocesiramo ih (isto kao i trening):"
   ]
  },
  {
   "cell_type": "code",
   "execution_count": 8,
   "metadata": {},
   "outputs": [],
   "source": [
    "test_data = pd.read_csv(\"../projekat/data/sign_mnist_test/sign_mnist_test.csv\")\n",
    "y_test = test_data['label']\n",
    "x_test = test_data.drop([\"label\"],axis=1)\n",
    "\n",
    "label_binrizer = LabelBinarizer()\n",
    "y_test = label_binrizer.fit_transform(y_test)\n",
    "\n",
    "x_test = x_test/255.0\n",
    "\n",
    "x_test = x_test.values.reshape(-1,28,28,1)"
   ]
  },
  {
   "cell_type": "markdown",
   "metadata": {},
   "source": [
    "#### Neuronska mreza\n",
    "\n",
    "Kao klasifikator koristi se neuronska mreza sa 3 konvoluciona sloja."
   ]
  },
  {
   "cell_type": "code",
   "execution_count": 9,
   "metadata": {},
   "outputs": [],
   "source": [
    "from keras.models import Sequential\n",
    "from keras.layers import Dense, Dropout, Activation, Flatten\n",
    "from keras.layers import Conv2D, MaxPool2D"
   ]
  },
  {
   "cell_type": "code",
   "execution_count": 24,
   "metadata": {},
   "outputs": [],
   "source": [
    "# building a linear stack of layers with the sequential model\n",
    "model = Sequential()\n",
    "# convolutional layer\n",
    "model.add(Conv2D(32, kernel_size=(3,3), activation = 'relu', input_shape=(28, 28 ,1) ))\n",
    "model.add(MaxPool2D(pool_size = (2, 2)))\n",
    "# convolutional layer \n",
    "model.add(Conv2D(64, kernel_size = (3, 3), activation = 'relu'))\n",
    "model.add(MaxPool2D(pool_size = (2, 2)))\n",
    "# convolutional layer\n",
    "model.add(Conv2D(128, kernel_size = (3, 3), activation = 'relu'))\n",
    "model.add(MaxPool2D(pool_size = (2, 2)))\n",
    "# flatten output of conv\n",
    "model.add(Flatten())\n",
    "# hidden layer\n",
    "model.add(Dense(128, activation = 'relu'))\n",
    "model.add(Dropout(0.2))\n",
    "# output layer\n",
    "model.add(Dense(24, activation = 'softmax'))\n",
    "\n",
    "model.compile(loss='categorical_crossentropy', metrics=['accuracy'], optimizer='adam')"
   ]
  },
  {
   "cell_type": "markdown",
   "metadata": {},
   "source": [
    "Vizuelizacija modela sa brojem parametara koje je potrebno \"istrenirati\"."
   ]
  },
  {
   "cell_type": "code",
   "execution_count": 11,
   "metadata": {},
   "outputs": [
    {
     "name": "stdout",
     "output_type": "stream",
     "text": [
      "Model: \"sequential\"\n",
      "_________________________________________________________________\n",
      "Layer (type)                 Output Shape              Param #   \n",
      "=================================================================\n",
      "conv2d (Conv2D)              (None, 26, 26, 32)        320       \n",
      "_________________________________________________________________\n",
      "max_pooling2d (MaxPooling2D) (None, 13, 13, 32)        0         \n",
      "_________________________________________________________________\n",
      "conv2d_1 (Conv2D)            (None, 11, 11, 64)        18496     \n",
      "_________________________________________________________________\n",
      "max_pooling2d_1 (MaxPooling2 (None, 5, 5, 64)          0         \n",
      "_________________________________________________________________\n",
      "conv2d_2 (Conv2D)            (None, 3, 3, 128)         73856     \n",
      "_________________________________________________________________\n",
      "max_pooling2d_2 (MaxPooling2 (None, 1, 1, 128)         0         \n",
      "_________________________________________________________________\n",
      "flatten (Flatten)            (None, 128)               0         \n",
      "_________________________________________________________________\n",
      "dense (Dense)                (None, 128)               16512     \n",
      "_________________________________________________________________\n",
      "dropout (Dropout)            (None, 128)               0         \n",
      "_________________________________________________________________\n",
      "dense_1 (Dense)              (None, 24)                3096      \n",
      "=================================================================\n",
      "Total params: 112,280\n",
      "Trainable params: 112,280\n",
      "Non-trainable params: 0\n",
      "_________________________________________________________________\n"
     ]
    }
   ],
   "source": [
    "model.summary()"
   ]
  },
  {
   "cell_type": "markdown",
   "metadata": {},
   "source": [
    "Prilikom treninranja koristi se [**ModelCheckpoint**](https://keras.io/api/callbacks/model_checkpoint/) koji cuva model nakon svake epohe, ali u ovom slucaju ce cuvati samo poslednji."
   ]
  },
  {
   "cell_type": "code",
   "execution_count": 12,
   "metadata": {},
   "outputs": [
    {
     "name": "stdout",
     "output_type": "stream",
     "text": [
      "Epoch 1/15\n",
      "215/215 [==============================] - 70s 314ms/step - loss: 2.7097 - accuracy: 0.1794 - val_loss: 1.1770 - val_accuracy: 0.6062\n",
      "\n",
      "Epoch 00001: val_loss improved from inf to 1.17703, saving model to models\\best_weights.hdf5\n",
      "Epoch 2/15\n",
      "215/215 [==============================] - 60s 281ms/step - loss: 0.9036 - accuracy: 0.6986 - val_loss: 0.6624 - val_accuracy: 0.7692\n",
      "\n",
      "Epoch 00002: val_loss improved from 1.17703 to 0.66242, saving model to models\\best_weights.hdf5\n",
      "Epoch 3/15\n",
      "215/215 [==============================] - 62s 289ms/step - loss: 0.4395 - accuracy: 0.8537 - val_loss: 0.4322 - val_accuracy: 0.8606\n",
      "\n",
      "Epoch 00003: val_loss improved from 0.66242 to 0.43221, saving model to models\\best_weights.hdf5\n",
      "Epoch 4/15\n",
      "215/215 [==============================] - 72s 337ms/step - loss: 0.2302 - accuracy: 0.9290 - val_loss: 0.3625 - val_accuracy: 0.8992\n",
      "\n",
      "Epoch 00004: val_loss improved from 0.43221 to 0.36252, saving model to models\\best_weights.hdf5\n",
      "Epoch 5/15\n",
      "215/215 [==============================] - 62s 289ms/step - loss: 0.1261 - accuracy: 0.9630 - val_loss: 0.3755 - val_accuracy: 0.8769\n",
      "\n",
      "Epoch 00005: val_loss did not improve from 0.36252\n",
      "Epoch 6/15\n",
      "215/215 [==============================] - 67s 314ms/step - loss: 0.0804 - accuracy: 0.9781 - val_loss: 0.3547 - val_accuracy: 0.8982\n",
      "\n",
      "Epoch 00006: val_loss improved from 0.36252 to 0.35466, saving model to models\\best_weights.hdf5\n",
      "Epoch 7/15\n",
      "215/215 [==============================] - 61s 282ms/step - loss: 0.0437 - accuracy: 0.9889 - val_loss: 0.3641 - val_accuracy: 0.8940\n",
      "\n",
      "Epoch 00007: val_loss did not improve from 0.35466\n",
      "Epoch 8/15\n",
      "215/215 [==============================] - 61s 283ms/step - loss: 0.0340 - accuracy: 0.9918 - val_loss: 0.3763 - val_accuracy: 0.9044\n",
      "\n",
      "Epoch 00008: val_loss did not improve from 0.35466\n",
      "Epoch 9/15\n",
      "215/215 [==============================] - 61s 282ms/step - loss: 0.0257 - accuracy: 0.9943 - val_loss: 0.3868 - val_accuracy: 0.8968\n",
      "\n",
      "Epoch 00009: val_loss did not improve from 0.35466\n",
      "Epoch 10/15\n",
      "215/215 [==============================] - 61s 285ms/step - loss: 0.0209 - accuracy: 0.9953 - val_loss: 0.3636 - val_accuracy: 0.9085\n",
      "\n",
      "Epoch 00010: val_loss did not improve from 0.35466\n",
      "Epoch 11/15\n",
      "215/215 [==============================] - 64s 300ms/step - loss: 0.0155 - accuracy: 0.9963 - val_loss: 0.3879 - val_accuracy: 0.9038\n",
      "\n",
      "Epoch 00011: val_loss did not improve from 0.35466\n",
      "Epoch 12/15\n",
      "215/215 [==============================] - 63s 293ms/step - loss: 0.0159 - accuracy: 0.9958 - val_loss: 0.4318 - val_accuracy: 0.8956\n",
      "\n",
      "Epoch 00012: val_loss did not improve from 0.35466\n",
      "Epoch 13/15\n",
      "215/215 [==============================] - 63s 294ms/step - loss: 0.0132 - accuracy: 0.9967 - val_loss: 0.3627 - val_accuracy: 0.9279\n",
      "\n",
      "Epoch 00013: val_loss did not improve from 0.35466\n",
      "Epoch 14/15\n",
      "215/215 [==============================] - 63s 293ms/step - loss: 0.0119 - accuracy: 0.9972 - val_loss: 0.3608 - val_accuracy: 0.9144\n",
      "\n",
      "Epoch 00014: val_loss did not improve from 0.35466\n",
      "Epoch 15/15\n",
      "215/215 [==============================] - 89s 414ms/step - loss: 0.0121 - accuracy: 0.9971 - val_loss: 0.3618 - val_accuracy: 0.9211\n",
      "\n",
      "Epoch 00015: val_loss did not improve from 0.35466\n",
      "Training completed in:  0:16:22.893922\n"
     ]
    }
   ],
   "source": [
    "from keras.callbacks import ModelCheckpoint\n",
    "from datetime import datetime\n",
    "\n",
    "checkpointer = ModelCheckpoint(filepath=\"models/best_weights.hdf5\", verbose=1, save_best_only=True) \n",
    "\n",
    "start = datetime.now()\n",
    "history = model.fit(x_train, y_train, batch_size=128, epochs=15, validation_data=(x_test, y_test), \n",
    "          callbacks=[checkpointer], verbose=1)\n",
    "\n",
    "duration = datetime.now() - start\n",
    "print(\"Training completed in: \", duration)"
   ]
  },
  {
   "cell_type": "code",
   "execution_count": 13,
   "metadata": {},
   "outputs": [
    {
     "name": "stdout",
     "output_type": "stream",
     "text": [
      "858/858 [==============================] - 31s 36ms/step - loss: 6.6619e-04 - accuracy: 1.0000\n",
      "Training Accuracy:  1.0\n",
      "225/225 [==============================] - 8s 37ms/step - loss: 0.3618 - accuracy: 0.9211\n",
      "Test Accuracy:  0.9210819602012634\n"
     ]
    }
   ],
   "source": [
    "train_score = model.evaluate(x_train, y_train, verbose=1)\n",
    "print(\"Training Accuracy: \", train_score[1])\n",
    "\n",
    "\n",
    "test_score = model.evaluate(x_test, y_test, verbose=1)\n",
    "print(\"Test Accuracy: \", test_score[1])"
   ]
  },
  {
   "cell_type": "code",
   "execution_count": 15,
   "metadata": {},
   "outputs": [
    {
     "data": {
      "image/png": "[encoded data removed]",
      "text/plain": [
       "<Figure size 432x288 with 1 Axes>"
      ]
     },
     "metadata": {
      "needs_background": "light"
     },
     "output_type": "display_data"
    }
   ],
   "source": [
    "plt.plot(history.history['loss'])\n",
    "plt.plot(history.history['val_loss'])\n",
    "plt.title(\"Loss\")\n",
    "plt.xlabel('epoch')\n",
    "plt.ylabel('los')\n",
    "plt.legend(['train','test'])\n",
    "\n",
    "plt.show()"
   ]
  },
  {
   "cell_type": "markdown",
   "metadata": {},
   "source": [
    "Kako se **loss** ne smanjuje to znači da je **learnig rate** mali, pa ce se povecati na 0.001."
   ]
  },
  {
   "cell_type": "code",
   "execution_count": 25,
   "metadata": {},
   "outputs": [],
   "source": [
    "from keras.optimizers import Adam\n",
    "\n",
    "opt = Adam(learning_rate=1e-3)\n",
    "model.load_weights(filepath=\"models/best_weights.hdf5\")\n",
    "model.compile(loss='categorical_crossentropy', metrics=['accuracy'], optimizer = opt)"
   ]
  },
  {
   "cell_type": "code",
   "execution_count": 18,
   "metadata": {},
   "outputs": [
    {
     "name": "stdout",
     "output_type": "stream",
     "text": [
      "Epoch 1/15\n",
      "215/215 [==============================] - 70s 317ms/step - loss: 0.0681 - accuracy: 0.9802 - val_loss: 0.3409 - val_accuracy: 0.9066\n",
      "\n",
      "Epoch 00001: val_loss improved from 0.35466 to 0.34086, saving model to models\\best_weights.hdf5\n",
      "Epoch 2/15\n",
      "215/215 [==============================] - 63s 291ms/step - loss: 0.0366 - accuracy: 0.9907 - val_loss: 0.3843 - val_accuracy: 0.9062\n",
      "\n",
      "Epoch 00002: val_loss did not improve from 0.34086\n",
      "Epoch 3/15\n",
      "215/215 [==============================] - 75s 350ms/step - loss: 0.0257 - accuracy: 0.9930 - val_loss: 0.3450 - val_accuracy: 0.9137\n",
      "\n",
      "Epoch 00003: val_loss did not improve from 0.34086\n",
      "Epoch 4/15\n",
      "215/215 [==============================] - 63s 293ms/step - loss: 0.0214 - accuracy: 0.9944 - val_loss: 0.4044 - val_accuracy: 0.9105\n",
      "\n",
      "Epoch 00004: val_loss did not improve from 0.34086\n",
      "Epoch 5/15\n",
      "215/215 [==============================] - 76s 356ms/step - loss: 0.0153 - accuracy: 0.9961 - val_loss: 0.3635 - val_accuracy: 0.9267\n",
      "\n",
      "Epoch 00005: val_loss did not improve from 0.34086\n",
      "Epoch 6/15\n",
      "215/215 [==============================] - 85s 393ms/step - loss: 0.0133 - accuracy: 0.9963 - val_loss: 0.3965 - val_accuracy: 0.9131\n",
      "\n",
      "Epoch 00006: val_loss did not improve from 0.34086\n",
      "Epoch 7/15\n",
      "215/215 [==============================] - 95s 444ms/step - loss: 0.0174 - accuracy: 0.9945 - val_loss: 0.3692 - val_accuracy: 0.9194\n",
      "\n",
      "Epoch 00007: val_loss did not improve from 0.34086\n",
      "Epoch 8/15\n",
      "215/215 [==============================] - 96s 449ms/step - loss: 0.0082 - accuracy: 0.9979 - val_loss: 0.4556 - val_accuracy: 0.9136\n",
      "\n",
      "Epoch 00008: val_loss did not improve from 0.34086\n",
      "Epoch 9/15\n",
      "215/215 [==============================] - 91s 426ms/step - loss: 0.0068 - accuracy: 0.9981 - val_loss: 0.4707 - val_accuracy: 0.9023\n",
      "\n",
      "Epoch 00009: val_loss did not improve from 0.34086\n",
      "Epoch 10/15\n",
      "215/215 [==============================] - 143s 662ms/step - loss: 0.0060 - accuracy: 0.9984 - val_loss: 0.3773 - val_accuracy: 0.9320\n",
      "\n",
      "Epoch 00010: val_loss did not improve from 0.34086\n",
      "Epoch 11/15\n",
      "215/215 [==============================] - 96s 449ms/step - loss: 0.0095 - accuracy: 0.9975 - val_loss: 0.3996 - val_accuracy: 0.9130\n",
      "\n",
      "Epoch 00011: val_loss did not improve from 0.34086\n",
      "Epoch 12/15\n",
      "215/215 [==============================] - 113s 525ms/step - loss: 0.0146 - accuracy: 0.9956 - val_loss: 0.4312 - val_accuracy: 0.9183\n",
      "\n",
      "Epoch 00012: val_loss did not improve from 0.34086\n",
      "Epoch 13/15\n",
      "215/215 [==============================] - 102s 475ms/step - loss: 0.0080 - accuracy: 0.9973 - val_loss: 0.3846 - val_accuracy: 0.9212\n",
      "\n",
      "Epoch 00013: val_loss did not improve from 0.34086\n",
      "Epoch 14/15\n",
      "215/215 [==============================] - 109s 509ms/step - loss: 0.0059 - accuracy: 0.9982 - val_loss: 0.4298 - val_accuracy: 0.9301\n",
      "\n",
      "Epoch 00014: val_loss did not improve from 0.34086\n",
      "Epoch 15/15\n",
      "215/215 [==============================] - 95s 440ms/step - loss: 0.0071 - accuracy: 0.9978 - val_loss: 0.4102 - val_accuracy: 0.9314\n",
      "\n",
      "Epoch 00015: val_loss did not improve from 0.34086\n",
      "Training completed in:  0:48:05.904590\n"
     ]
    }
   ],
   "source": [
    "history= model.fit(x_train, y_train, batch_size=128, epochs=15, validation_data=(x_test, y_test), \n",
    "          callbacks=[checkpointer], verbose=1)\n",
    "\n",
    "duration = datetime.now() - start\n",
    "print(\"Training completed in: \", duration)"
   ]
  },
  {
   "cell_type": "code",
   "execution_count": 19,
   "metadata": {},
   "outputs": [
    {
     "name": "stdout",
     "output_type": "stream",
     "text": [
      "858/858 [==============================] - 30s 35ms/step - loss: 1.4550e-04 - accuracy: 1.0000\n",
      "Training Accuracy:  1.0\n",
      "225/225 [==============================] - 8s 35ms/step - loss: 0.4102 - accuracy: 0.9314 2s\n",
      "Test Accuracy:  0.9313998818397522\n"
     ]
    }
   ],
   "source": [
    "train_score = model.evaluate(x_train, y_train, verbose=1)\n",
    "print(\"Training Accuracy: \", train_score[1])\n",
    "\n",
    "\n",
    "test_score = model.evaluate(x_test, y_test, verbose=1)\n",
    "print(\"Test Accuracy: \", test_score[1])"
   ]
  },
  {
   "cell_type": "code",
   "execution_count": 20,
   "metadata": {},
   "outputs": [
    {
     "data": {
      "image/png": "[encoded data removed]",
      "text/plain": [
       "<Figure size 864x288 with 2 Axes>"
      ]
     },
     "metadata": {
      "needs_background": "light"
     },
     "output_type": "display_data"
    }
   ],
   "source": [
    "fig , ax = plt.subplots(1,2)\n",
    "train_acc = history.history['accuracy']\n",
    "train_loss = history.history['loss']\n",
    "fig.set_size_inches(12,4)\n",
    "\n",
    "ax[0].plot(history.history['accuracy'])\n",
    "ax[0].plot(history.history['val_accuracy'])\n",
    "ax[0].set_title('Trening Accuracy i Test Accuracy')\n",
    "ax[0].set_ylabel('Accuracy')\n",
    "ax[0].set_xlabel('Epoch')\n",
    "ax[0].legend(['Train', 'Test'], loc='upper left')\n",
    "\n",
    "ax[1].plot(history.history['loss'])\n",
    "ax[1].plot(history.history['val_loss'])\n",
    "ax[1].set_title('Trening Loss i Test Loss')\n",
    "ax[1].set_ylabel('Loss')\n",
    "ax[1].set_xlabel('Epoch')\n",
    "ax[1].legend(['Train', 'Test'], loc='upper left')\n",
    "\n",
    "plt.show()"
   ]
  },
  {
   "cell_type": "code",
   "execution_count": 23,
   "metadata": {},
   "outputs": [],
   "source": [
    "from sklearn.model_selection import train_test_split\n",
    "x_train, x_val, y_train, y_val = train_test_split(x_train, y_train, test_size=0.20, random_state=42)"
   ]
  },
  {
   "cell_type": "code",
   "execution_count": 26,
   "metadata": {},
   "outputs": [
    {
     "name": "stdout",
     "output_type": "stream",
     "text": [
      "Epoch 1/15\n",
      "172/172 [==============================] - 68s 382ms/step - loss: 0.0491 - accuracy: 0.9853 - val_loss: 0.0085 - val_accuracy: 0.9996\n",
      "\n",
      "Epoch 00001: val_loss improved from 0.34086 to 0.00847, saving model to models\\best_weights.hdf5\n",
      "Epoch 2/15\n",
      "172/172 [==============================] - 65s 377ms/step - loss: 0.0305 - accuracy: 0.9915 - val_loss: 0.0120 - val_accuracy: 0.9973\n",
      "\n",
      "Epoch 00002: val_loss did not improve from 0.00847\n",
      "Epoch 3/15\n",
      "172/172 [==============================] - 52s 303ms/step - loss: 0.0240 - accuracy: 0.9933 - val_loss: 0.0065 - val_accuracy: 0.9991\n",
      "\n",
      "Epoch 00003: val_loss improved from 0.00847 to 0.00648, saving model to models\\best_weights.hdf5\n",
      "Epoch 4/15\n",
      "172/172 [==============================] - 49s 285ms/step - loss: 0.0209 - accuracy: 0.9941 - val_loss: 0.0025 - val_accuracy: 0.9998\n",
      "\n",
      "Epoch 00004: val_loss improved from 0.00648 to 0.00251, saving model to models\\best_weights.hdf5\n",
      "Epoch 5/15\n",
      "172/172 [==============================] - 49s 285ms/step - loss: 0.0104 - accuracy: 0.9978 - val_loss: 0.0021 - val_accuracy: 1.0000\n",
      "\n",
      "Epoch 00005: val_loss improved from 0.00251 to 0.00205, saving model to models\\best_weights.hdf5\n",
      "Epoch 6/15\n",
      "172/172 [==============================] - 50s 289ms/step - loss: 0.0116 - accuracy: 0.9971 - val_loss: 0.0043 - val_accuracy: 0.9991\n",
      "\n",
      "Epoch 00006: val_loss did not improve from 0.00205\n",
      "Epoch 7/15\n",
      "172/172 [==============================] - 54s 313ms/step - loss: 0.0138 - accuracy: 0.9963 - val_loss: 0.0032 - val_accuracy: 0.9991\n",
      "\n",
      "Epoch 00007: val_loss did not improve from 0.00205\n",
      "Epoch 8/15\n",
      "172/172 [==============================] - 64s 374ms/step - loss: 0.0189 - accuracy: 0.9943 - val_loss: 0.0012 - val_accuracy: 1.0000\n",
      "\n",
      "Epoch 00008: val_loss improved from 0.00205 to 0.00117, saving model to models\\best_weights.hdf5\n",
      "Epoch 9/15\n",
      "172/172 [==============================] - 63s 365ms/step - loss: 0.0078 - accuracy: 0.9981 - val_loss: 6.5183e-04 - val_accuracy: 0.9998\n",
      "\n",
      "Epoch 00009: val_loss improved from 0.00117 to 0.00065, saving model to models\\best_weights.hdf5\n",
      "Epoch 10/15\n",
      "172/172 [==============================] - 66s 384ms/step - loss: 0.0083 - accuracy: 0.9974 - val_loss: 0.0016 - val_accuracy: 1.0000\n",
      "\n",
      "Epoch 00010: val_loss did not improve from 0.00065\n",
      "Epoch 11/15\n",
      "172/172 [==============================] - 78s 451ms/step - loss: 0.0094 - accuracy: 0.9969 - val_loss: 6.2698e-04 - val_accuracy: 0.9998\n",
      "\n",
      "Epoch 00011: val_loss improved from 0.00065 to 0.00063, saving model to models\\best_weights.hdf5\n",
      "Epoch 12/15\n",
      "172/172 [==============================] - 67s 386ms/step - loss: 0.0060 - accuracy: 0.9989 - val_loss: 8.0737e-04 - val_accuracy: 1.0000\n",
      "\n",
      "Epoch 00012: val_loss did not improve from 0.00063\n",
      "Epoch 13/15\n",
      "172/172 [==============================] - 74s 432ms/step - loss: 0.0053 - accuracy: 0.9984 - val_loss: 2.2596e-04 - val_accuracy: 1.0000\n",
      "\n",
      "Epoch 00013: val_loss improved from 0.00063 to 0.00023, saving model to models\\best_weights.hdf5\n",
      "Epoch 14/15\n",
      "172/172 [==============================] - 60s 351ms/step - loss: 0.0024 - accuracy: 0.9996 - val_loss: 1.7355e-04 - val_accuracy: 1.0000\n",
      "\n",
      "Epoch 00014: val_loss improved from 0.00023 to 0.00017, saving model to models\\best_weights.hdf5\n",
      "Epoch 15/15\n",
      "172/172 [==============================] - 64s 370ms/step - loss: 0.0080 - accuracy: 0.9976 - val_loss: 0.0085 - val_accuracy: 0.9984\n",
      "\n",
      "Epoch 00015: val_loss did not improve from 0.00017\n",
      "Training completed in:  0:15:23.505553\n"
     ]
    }
   ],
   "source": [
    "start = datetime.now()\n",
    "history = model.fit(x_train, y_train, batch_size=128, epochs=15, validation_data=(x_val, y_val), \n",
    "          callbacks=[checkpointer], verbose=1)\n",
    "\n",
    "duration = datetime.now() - start\n",
    "print(\"Training completed in: \", duration)\n"
   ]
  },
  {
   "cell_type": "code",
   "execution_count": 27,
   "metadata": {},
   "outputs": [
    {
     "name": "stdout",
     "output_type": "stream",
     "text": [
      "687/687 [==============================] - 23s 33ms/step - loss: 0.0088 - accuracy: 0.99811s - loss: 0 - ETA: 0s - loss: 0.0088 - ac\n",
      "Training Accuracy:  0.9981333017349243\n",
      "172/172 [==============================] - 4s 23ms/step - loss: 0.0085 - accuracy: 0.9984\n",
      "Validation Accuracy:  0.9983609318733215\n",
      "225/225 [==============================] - 5s 24ms/step - loss: 0.4538 - accuracy: 0.8970\n",
      "Test Accuracy:  0.8969603776931763\n"
     ]
    }
   ],
   "source": [
    "train_score = model.evaluate(x_train, y_train, verbose=1)\n",
    "print(\"Training Accuracy: \", train_score[1])\n",
    "\n",
    "test_score = model.evaluate(x_val, y_val, verbose=1)\n",
    "print(\"Validation Accuracy: \", test_score[1])\n",
    "\n",
    "test_score = model.evaluate(x_test, y_test, verbose=1)\n",
    "print(\"Test Accuracy: \", test_score[1])"
   ]
  },
  {
   "cell_type": "code",
   "execution_count": 28,
   "metadata": {},
   "outputs": [
    {
     "data": {
      "image/png": "[encoded data removed]",
      "text/plain": [
       "<Figure size 864x288 with 2 Axes>"
      ]
     },
     "metadata": {
      "needs_background": "light"
     },
     "output_type": "display_data"
    }
   ],
   "source": [
    "fig , ax = plt.subplots(1,2)\n",
    "train_acc = history.history['accuracy']\n",
    "train_loss = history.history['loss']\n",
    "fig.set_size_inches(12,4)\n",
    "\n",
    "ax[0].plot(history.history['accuracy'])\n",
    "ax[0].plot(history.history['val_accuracy'])\n",
    "ax[0].set_title('Trening Accuracy i Validaciona Accuracy')\n",
    "ax[0].set_ylabel('Accuracy')\n",
    "ax[0].set_xlabel('Epoch')\n",
    "ax[0].legend(['Train', 'Validation'], loc='upper left')\n",
    "\n",
    "ax[1].plot(history.history['loss'])\n",
    "ax[1].plot(history.history['val_loss'])\n",
    "ax[1].set_title('Trening Loss i Validacioni Loss')\n",
    "ax[1].set_ylabel('Loss')\n",
    "ax[1].set_xlabel('Epoch')\n",
    "ax[1].legend(['Train', 'Validation'], loc='upper left')\n",
    "\n",
    "plt.show()"
   ]
  },
  {
   "cell_type": "code",
   "execution_count": null,
   "metadata": {},
   "outputs": [],
   "source": []
  }
 ],
 "metadata": {
  "kernelspec": {
   "display_name": "Python 3",
   "language": "python",
   "name": "python3"
  },
  "language_info": {
   "codemirror_mode": {
    "name": "ipython",
    "version": 3
   },
   "file_extension": ".py",
   "mimetype": "text/x-python",
   "name": "python",
   "nbconvert_exporter": "python",
   "pygments_lexer": "ipython3",
   "version": "3.8.5"
  }
 },
 "nbformat": 4,
 "nbformat_minor": 4
}
